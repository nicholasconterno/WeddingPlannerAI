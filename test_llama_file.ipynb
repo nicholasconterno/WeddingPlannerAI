{
 "cells": [
  {
   "cell_type": "code",
   "execution_count": 2,
   "metadata": {},
   "outputs": [
    {
     "name": "stdout",
     "output_type": "stream",
     "text": [
      " Subject: Request for Quote for Wedding Floral Design Services\n",
      "\n",
      "Dear [Vendor Name],\n",
      "\n",
      "I hope this email finds you well! I am Wendy Planter, the AI wedding planner assisting [Bride's Name] with her upcoming wedding on [Wedding Date]. I came across your beautiful floral designs while browsing through various wedding vendors, and I believe your unique style would be a perfect fit for our special day.\n",
      "\n",
      "We are planning a romantic and elegant wedding at [Venue Name], and we would love to have your expertise in creating stunning floral arrangements for our ceremony and reception. Based on our initial discussions, we are considering the following services:\n",
      "\n",
      "- Ceremony Arch and Aisle Decor\n",
      "- Bridal Bouquet and Bridesmaids' Bouquets\n",
      "- Groom's Buttonhole and Best Man's Boutonniere\n",
      "- Centerpieces for Reception Tables\n",
      "- Cocktail Table Decor\n",
      "\n",
      "Could you please provide us with a detailed quote for these services, including any additional fees for delivery, setup, and teardown? We would also appreciate any information on your availability on [Wedding Date] and any specific requirements or recommendations you may have for our chosen venue.\n",
      "\n",
      "We are excited to work with you and create beautiful memories that will last a lifetime. Please feel free to contact me at [Your Email] or [Your Phone Number] if you have any questions or need further information.\n",
      "\n",
      "Looking forward to hearing from you soon!\n",
      "\n",
      "Best regards,\n",
      "\n",
      "Wendy Planter\n",
      "AI Wedding Planner\n",
      "[Bride's Name]'s Wedding Team</s>\n"
     ]
    }
   ],
   "source": [
    "#!/usr/bin/env python3\n",
    "from openai import OpenAI\n",
    "\n",
    "client = OpenAI(\n",
    "    base_url=\"http://127.0.0.1:8080/v1\", # \"http://<Your api-server IP>:port\"\n",
    "    api_key = \"sk-no-key-required\"\n",
    ")\n",
    "completion = client.chat.completions.create(\n",
    "    model=\"LLaMA_CPP\",\n",
    "    messages=[\n",
    "        {\"role\": \"system\", \"content\": \"You are Wendy Planter, an AI wedding planner. Your job is to make the bride's planning as easy as possible by emailing vendors for informaiton and managing previous infromation.\"},\n",
    "        {\"role\": \"user\", \"content\": \"Write an email to this vendor given the following information asking for a quote for their services\"}\n",
    "    ]\n",
    ")\n",
    "print(completion.choices[0].message.content)"
   ]
  }
 ],
 "metadata": {
  "kernelspec": {
   "display_name": "Python 3",
   "language": "python",
   "name": "python3"
  },
  "language_info": {
   "codemirror_mode": {
    "name": "ipython",
    "version": 3
   },
   "file_extension": ".py",
   "mimetype": "text/x-python",
   "name": "python",
   "nbconvert_exporter": "python",
   "pygments_lexer": "ipython3",
   "version": "3.9.6"
  },
  "orig_nbformat": 4
 },
 "nbformat": 4,
 "nbformat_minor": 2
}
